{
 "cells": [
  {
   "cell_type": "code",
   "execution_count": 3,
   "id": "c692a70b-4968-4a13-9c03-4c8e4bc30926",
   "metadata": {},
   "outputs": [
    {
     "name": "stdout",
     "output_type": "stream",
     "text": [
      "PySpark version: 4.0.0\n",
      "SparkSession created successfully\n",
      "Running on: local[*]\n",
      "Application: JupyterTest\n"
     ]
    },
    {
     "name": "stderr",
     "output_type": "stream",
     "text": [
      "                                                                                \r"
     ]
    },
    {
     "name": "stdout",
     "output_type": "stream",
     "text": [
      "Data loaded: ['YEAR\\tGoogleKnowlege_Occupation\\tShow\\tGroup\\tRaw_Guest_List', '1999\\tactor\\t1/11/99\\tActing\\tMichael J. Fox']\n",
      "Setup verification complete!\n"
     ]
    }
   ],
   "source": [
    "import os\n",
    "import sys\n",
    "import pyspark\n",
    "from pyspark.sql import SparkSession\n",
    "\n",
    "os.environ[\"PYSPARK_PYTHON\"] = sys.executable\n",
    "\n",
    "print(\"PySpark version:\", pyspark.__version__)\n",
    "\n",
    "spark = SparkSession.builder \\\n",
    "    .appName(\"JupyterTest\") \\\n",
    "    .master(\"local[*]\") \\\n",
    "    .config(\"spark.driver.memory\", \"2g\") \\\n",
    "    .getOrCreate()\n",
    "\n",
    "print(\"SparkSession created successfully\")\n",
    "print(\"Running on:\", spark.sparkContext.master)\n",
    "print(\"Application:\", spark.sparkContext.appName)\n",
    "\n",
    "test_rdd = spark.sparkContext.textFile(\"daily_show.tsv\")\n",
    "sample_data = test_rdd.take(2)\n",
    "print(\"Data loaded:\", sample_data)\n",
    "\n",
    "spark.stop()\n",
    "print(\"Setup verification complete!\")"
   ]
  },
  {
   "cell_type": "code",
   "execution_count": 5,
   "id": "025e8ccd-65ba-4392-b6f3-907a33c12f31",
   "metadata": {},
   "outputs": [],
   "source": [
    "spark.stop()"
   ]
  },
  {
   "cell_type": "code",
   "execution_count": null,
   "id": "e102a340-b4a1-4009-be17-749024aea2e3",
   "metadata": {},
   "outputs": [],
   "source": []
  }
 ],
 "metadata": {
  "kernelspec": {
   "display_name": "Python 3 (ipykernel)",
   "language": "python",
   "name": "python3"
  },
  "language_info": {
   "codemirror_mode": {
    "name": "ipython",
    "version": 3
   },
   "file_extension": ".py",
   "mimetype": "text/x-python",
   "name": "python",
   "nbconvert_exporter": "python",
   "pygments_lexer": "ipython3",
   "version": "3.12.2"
  }
 },
 "nbformat": 4,
 "nbformat_minor": 5
}
